{
  "nbformat": 4,
  "nbformat_minor": 0,
  "metadata": {
    "colab": {
      "provenance": []
    },
    "kernelspec": {
      "name": "python3",
      "display_name": "Python 3"
    },
    "language_info": {
      "name": "python"
    }
  },
  "cells": [
    {
      "cell_type": "code",
      "execution_count": null,
      "metadata": {
        "id": "Bo2rAfqeM_bt"
      },
      "outputs": [],
      "source": []
    },
    {
      "cell_type": "markdown",
      "source": [
        "Exemple 4.11\n",
        "My Pizzas, Your Pizzas: Start with your program from Exercise 4-1 (page 60). Make a copy \n",
        "of the list of pizzas, and call it friend_pizzas. Then, do the following: • Add a new pizza to \n",
        "the original list. • Add a different pizza to the list friend_pizzas. • Prove that you have two \n",
        "separate lists. Print the message, My favorite pizzas are:, and then use a for loop to print the\n",
        "first list. Print the message, My friend’s favorite pizzas are:, and then use a for loop to print \n",
        "the second list. Make sure each new pizza is stored in the appropriate list."
      ],
      "metadata": {
        "id": "_g9Zmb0LRrXE"
      }
    },
    {
      "cell_type": "markdown",
      "source": [],
      "metadata": {
        "id": "qcPQvPIzWcy7"
      }
    },
    {
      "cell_type": "code",
      "source": [
        "pizza_munib=['Meat Pizza','Siclian Pizza','BBQ Pizza','Deep Disha Pizza']\n",
        "# Copying List to an other List\n",
        "friend_pizza_munib=pizza_munib[:]\n",
        "\n",
        "#Inserting new item in original List\n",
        "pizza_munib.append('Fajeeta')\n",
        "#inserting mew item to firends Pizza list\n",
        "friend_pizza_munib.append('BoneFire')"
      ],
      "metadata": {
        "id": "kIlSfXQ8UFLP"
      },
      "execution_count": 9,
      "outputs": []
    },
    {
      "cell_type": "markdown",
      "source": [
        "Exemple 4.13\n",
        "Buffet: A buffet-style restaurant offers only five basic foods. Think of five simple foods, and \n",
        "store them in a tuple. • Use a for loop to print each food the restaurant offers. • Try to \n",
        "modify one of the items, and make sure that Python rejects the change. • The restaurant \n",
        "changes its menu, replacing two of the items with different foods. Add a block of code that \n",
        "rewrites the tuple, and then use a for loop to print each of the items on the revised menu."
      ],
      "metadata": {
        "id": "crqmMPEFa3CB"
      }
    },
    {
      "cell_type": "code",
      "source": [
        "buffet_munib=['Beef','Chicken','rushian Salid','qofty','fish']\n",
        "print(\"Our Resturant Offers following Foods:\")\n",
        "# Part 1 \n",
        "for foods in buffet_munib:\n",
        "    print(foods)   \n",
        "#part 2 \n",
        "buffet_munib[0]='Tikka Boti'\n",
        "# Part 3\n",
        "buffet_munib=('Beef','Chicken','rushian salid','qofty','fish','Tikka Boti')\n",
        "print(\"Our Resturant Offers following Foods after adding new items:\")\n",
        "for foods in buffet_munib:\n",
        "    print(foods)"
      ],
      "metadata": {
        "colab": {
          "base_uri": "https://localhost:8080/"
        },
        "id": "XLG5S5L6a_lz",
        "outputId": "60443b49-eec7-46fa-823b-44b54220f029"
      },
      "execution_count": 12,
      "outputs": [
        {
          "output_type": "stream",
          "name": "stdout",
          "text": [
            "Our Resturant Offers following Foods:\n",
            "Beef\n",
            "Chicken\n",
            "rushian Salid\n",
            "qofty\n",
            "fish\n",
            "Our Resturant Offers following Foods after adding new items:\n",
            "Beef\n",
            "Chicken\n",
            "rushian salid\n",
            "qofty\n",
            "fish\n",
            "Tikka Boti\n"
          ]
        }
      ]
    },
    {
      "cell_type": "markdown",
      "source": [
        "Example 5.2\n",
        "More Conditional Tests: You don’t have to limit the number of tests you create to 10. If you \n",
        "want to try more comparisons, write more tests and add them to conditional_tests.py. Have\n",
        "at least one True and one False result for each of the following: • Tests for equality and \n",
        "inequality with strings • Tests using the lower() function • Numerical tests involving \n",
        "equality and inequality, greater than and less than, greater than or equal to, and less than \n",
        "or equal to • Tests using the and keyword and the or keyword • Test whether an item is in a\n",
        "list • Test whether an item is not in a list\n",
        "# Part 1\n",
        "cell_munib=\"Samsung\"\n",
        "print(cell_munib=='Nokia')\n",
        "print(cell_munib=='Samsung')\n",
        "print(cell_munib!='Nokia')\n",
        "print(cell_munib!='Samsung')\n",
        "# Part 2 Test using the Lower function\n",
        "print(\"\\n\")\n",
        "print(cell_munib.lower()=='Samsung')\n",
        "print(cell_munib.lower()=='samsung')\n",
        "# Part 3\n",
        "print(\"\\n\") \n",
        "a_munib=15\n",
        "print(a_munib==10) # Equality\n",
        "print(a_munib!=10) # Non Equality\n",
        "print(a_munib>15) # Greater then\n",
        "print(a_munib<15) # Less then\n",
        "print(a_munib>=10) #Greater then equal to\n",
        "print(a_munib<=15) # less then equal to\n",
        "#Part 4\n",
        "print(\"\\n\")\n",
        "age_munib=15\n",
        "height_munib=5.7\n",
        "print(age_munib>18 and height_munib>=5.6)\n",
        "print(age_munib>18 or height_munib>=5.6)\n",
        " \n",
        "# Part 5"
      ],
      "metadata": {
        "id": "tygFvFYhc-b8"
      }
    },
    {
      "cell_type": "code",
      "source": [],
      "metadata": {
        "id": "QR4L0fCRdHID"
      },
      "execution_count": 12,
      "outputs": []
    }
  ]
}